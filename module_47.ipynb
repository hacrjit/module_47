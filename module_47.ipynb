{
 "cells": [
  {
   "cell_type": "markdown",
   "id": "367123f2-eaeb-4c21-94d9-6b91d99f0fc8",
   "metadata": {},
   "source": [
    "### <b>Question No. 1</b>"
   ]
  },
  {
   "cell_type": "markdown",
   "id": "c7d96c15-9fcb-4771-b260-e2ed2422aeb2",
   "metadata": {},
   "source": [
    "Estimation statistics is a branch of statistics that involves estimating unknown parameters of a population based on sample data. \n",
    "\n",
    "- **Point Estimate:** A point estimate is a single value that serves as the best guess for the unknown population parameter. For example, the sample mean is often used as a point estimate for the population mean. Point estimates are useful for providing a single, specific value to represent an unknown parameter, but they do not provide any information about the uncertainty associated with the estimate.\n",
    "\n",
    "- **Interval Estimate:** An interval estimate, on the other hand, provides a range of values within which the population parameter is likely to fall. This range is called a confidence interval. Confidence intervals are based on the idea that repeated sampling and estimation would result in the parameter falling within the interval a certain percentage of the time (e.g., 95% confidence interval). Confidence intervals provide information about the precision and uncertainty of the estimate, which is not provided by point estimates alone."
   ]
  },
  {
   "cell_type": "markdown",
   "id": "9adaa4ac-d4a3-4b1c-b2b1-4b61f06b7c42",
   "metadata": {},
   "source": [
    "### <b>Question No. 2"
   ]
  },
  {
   "cell_type": "code",
   "execution_count": 13,
   "id": "f25e19e5-7bfb-4742-b35b-bf036a4a671e",
   "metadata": {},
   "outputs": [
    {
     "name": "stdout",
     "output_type": "stream",
     "text": [
      "Estimated mean: 50\n",
      "95% Confidence Interval: (48.04, 51.96)\n"
     ]
    }
   ],
   "source": [
    "def estimate_population_mean(sample_mean, sample_std_dev, sample_size):\n",
    "    # Calculate the standard error of the mean\n",
    "    standard_error = sample_std_dev / (sample_size ** 0.5)\n",
    "    \n",
    "    # Calculate the margin of error (assuming a 95% confidence level)\n",
    "    margin_of_error = 1.96 * standard_error  # For a 95% confidence level\n",
    "    \n",
    "    # Calculate the lower and upper bounds of the confidence interval\n",
    "    lower_bound = sample_mean - margin_of_error\n",
    "    upper_bound = sample_mean + margin_of_error\n",
    "    \n",
    "    # Return a tuple containing the estimated mean and the confidence interval\n",
    "    return sample_mean, (lower_bound, upper_bound)\n",
    "\n",
    "# Example usage\n",
    "sample_mean = 50\n",
    "sample_std_dev = 10\n",
    "sample_size = 100\n",
    "estimated_mean, confidence_interval = estimate_population_mean(sample_mean, sample_std_dev, sample_size)\n",
    "print(f\"Estimated mean: {estimated_mean}\")\n",
    "print(f\"95% Confidence Interval: {confidence_interval}\")\n"
   ]
  },
  {
   "cell_type": "markdown",
   "id": "64c5cf8b-55ab-4eea-97b3-87d46b83114a",
   "metadata": {},
   "source": [
    "### <b>Question No. 3"
   ]
  },
  {
   "cell_type": "markdown",
   "id": "b41c8840-a3c0-4f9c-aaaf-d3391d10270d",
   "metadata": {},
   "source": [
    "Hypothesis testing is a statistical method used to make inferences about a population based on sample data. It involves formulating two competing hypotheses about the population parameter of interest, called the null hypothesis (H0) and the alternative hypothesis (H1). The goal is to determine whether the sample data provide enough evidence to reject the null hypothesis in favor of the alternative hypothesis.\n",
    "\n",
    "The null hypothesis typically represents a default or status quo assumption, while the alternative hypothesis represents the researcher's hypothesis or the effect they are interested in detecting.\n",
    "\n",
    "Hypothesis testing is used for several reasons:\n",
    "\n",
    "1. **Inference:** It allows researchers to make inferences about population parameters based on sample data.\n",
    "\n",
    "2. **Decision Making:** It provides a formalized framework for making decisions, such as whether to accept or reject a new treatment based on its effectiveness.\n",
    "\n",
    "3. **Scientific Inquiry:** It is a fundamental tool in scientific research for testing theories and hypotheses.\n",
    "\n",
    "4. **Quality Control:** It is used in manufacturing and other industries to ensure product quality meets standards.\n",
    "\n",
    "5. **Comparisons:** It allows for comparisons between groups or conditions to determine if there are significant differences.\n",
    "\n",
    "The importance of hypothesis testing lies in its ability to provide a systematic and objective method for evaluating evidence and making informed decisions based on data. It helps researchers draw conclusions from data, leading to advances in knowledge and understanding in various fields."
   ]
  },
  {
   "cell_type": "markdown",
   "id": "b83cf481-c324-4334-aa90-46319d1f9741",
   "metadata": {},
   "source": [
    "### <b>Question No. 4"
   ]
  },
  {
   "cell_type": "markdown",
   "id": "d4d8496f-4db4-47c5-ae9a-d5b8c29d42bb",
   "metadata": {},
   "source": [
    "The hypothesis can be stated as follows:\n",
    "\n",
    "**Null Hypothesis (H0):** The average weight of male college students is equal to or less than the average weight of female college students.\n",
    "\n",
    "**Alternative Hypothesis (H1):** The average weight of male college students is greater than the average weight of female college students.\n",
    "\n",
    "In symbols:\n",
    "\n",
    "H0: μ_male <= μ_female\n",
    "\n",
    "H1: μ_male > μ_female"
   ]
  },
  {
   "cell_type": "markdown",
   "id": "db4e5aab-84d4-424c-8a66-1f95cdc99916",
   "metadata": {},
   "source": [
    "### <b>Question No. 5"
   ]
  },
  {
   "cell_type": "code",
   "execution_count": 14,
   "id": "b79a3bed-5786-4603-9588-9c68034c19f0",
   "metadata": {},
   "outputs": [
    {
     "name": "stdout",
     "output_type": "stream",
     "text": [
      "Reject the null hypothesis. There is enough evidence to suggest a significant difference between the population means.\n"
     ]
    }
   ],
   "source": [
    "from scipy import stats\n",
    "\n",
    "def hypothesis_test(sample1, sample2, alpha=0.05):\n",
    "    # Perform independent samples t-test\n",
    "    t_stat, p_value = stats.ttest_ind(sample1, sample2, equal_var=False)\n",
    "\n",
    "    # Compare p-value to alpha\n",
    "    if p_value < alpha:\n",
    "        print(\"Reject the null hypothesis. There is enough evidence to suggest a significant difference between the population means.\")\n",
    "    else:\n",
    "        print(\"Fail to reject the null hypothesis. There is not enough evidence to suggest a significant difference between the population means.\")\n",
    "\n",
    "# Example usage\n",
    "sample1 = [68, 72, 65, 71, 73, 70, 70, 72, 67, 75]\n",
    "sample2 = [58, 63, 60, 65, 62, 59, 61, 64, 58, 63]\n",
    "\n",
    "hypothesis_test(sample1, sample2)\n"
   ]
  },
  {
   "cell_type": "markdown",
   "id": "7a7d271c-61a0-406d-843e-5603f59a39cb",
   "metadata": {},
   "source": [
    "### <b>Question No. 6"
   ]
  },
  {
   "cell_type": "markdown",
   "id": "714a1bf3-2d11-45bb-8550-357e05001449",
   "metadata": {},
   "source": [
    "In statistical hypothesis testing, the null hypothesis (H0) and alternative hypothesis (H1) are two competing statements about a population parameter or the relationship between variables. The null hypothesis represents the status quo or a default assumption, while the alternative hypothesis represents a different or opposing claim. The goal of hypothesis testing is to determine whether there is enough evidence in the sample data to reject the null hypothesis in favor of the alternative hypothesis.\n",
    "\n",
    "Examples of null and alternative hypotheses:\n",
    "\n",
    "1. **Example 1 (One-Sample Mean):**\n",
    "   - Null Hypothesis (H0): The average height of adult males is 175 cm.\n",
    "   - Alternative Hypothesis (H1): The average height of adult males is not 175 cm.\n",
    "\n",
    "2. **Example 2 (Difference in Means):**\n",
    "   - Null Hypothesis (H0): The mean weight loss after a 12-week diet program is 0 kg.\n",
    "   - Alternative Hypothesis (H1): The mean weight loss after a 12-week diet program is greater than 0 kg.\n",
    "\n",
    "3. **Example 3 (Correlation):**\n",
    "   - Null Hypothesis (H0): There is no correlation between hours of study and exam scores.\n",
    "   - Alternative Hypothesis (H1): There is a positive correlation between hours of study and exam scores.\n",
    "\n",
    "4. **Example 4 (Proportion):**\n",
    "   - Null Hypothesis (H0): The proportion of defective items produced is less than or equal to 0.05.\n",
    "   - Alternative Hypothesis (H1): The proportion of defective items produced is greater than 0.05.\n",
    "\n",
    "In each example, the null hypothesis represents a statement of no effect, no difference, or no relationship, while the alternative hypothesis represents a statement of an effect, difference, or relationship that the researcher is interested in detecting."
   ]
  },
  {
   "cell_type": "markdown",
   "id": "f9e6998f-6a05-4195-8908-d5eee564f8dc",
   "metadata": {},
   "source": [
    "### <b>Question No. 7"
   ]
  },
  {
   "cell_type": "markdown",
   "id": "300b0210-71d9-4dc6-b6cb-66e6dbcd788c",
   "metadata": {},
   "source": [
    "The steps involved in hypothesis testing are as follows:\n",
    "\n",
    "1. **State the Hypotheses:**\n",
    "   - Null Hypothesis (H0): Represents the default assumption or the status quo.\n",
    "   - Alternative Hypothesis (H1): Represents the opposite or alternative claim.\n",
    "\n",
    "2. **Set the Significance Level (α):**\n",
    "   - The significance level (α) is the threshold for deciding whether to reject the null hypothesis.\n",
    "   - Commonly used values for α are 0.05 (5%) and 0.01 (1%).\n",
    "\n",
    "3. **Select the Test Statistic:**\n",
    "   - Choose an appropriate test statistic based on the type of data and the hypothesis being tested.\n",
    "   - Common test statistics include t-test, z-test, chi-square test, etc.\n",
    "\n",
    "4. **Collect and Prepare the Data:**\n",
    "   - Collect the sample data needed for the test.\n",
    "   - Ensure the data meets the assumptions of the chosen test statistic.\n",
    "\n",
    "5. **Calculate the Test Statistic:**\n",
    "   - Use the sample data to calculate the value of the test statistic.\n",
    "\n",
    "6. **Determine the Critical Region:**\n",
    "   - Determine the critical region of the test statistic based on the significance level (α) and the test's null distribution.\n",
    "   - Critical regions are the values of the test statistic that would lead to rejection of the null hypothesis.\n",
    "\n",
    "7. **Make a Decision:**\n",
    "   - Compare the calculated test statistic to the critical region.\n",
    "   - If the test statistic falls in the critical region, reject the null hypothesis.\n",
    "   - If the test statistic does not fall in the critical region, fail to reject the null hypothesis.\n",
    "\n",
    "8. **Interpret the Results:**\n",
    "   - If the null hypothesis is rejected, conclude that there is enough evidence to support the alternative hypothesis.\n",
    "   - If the null hypothesis is not rejected, conclude that there is not enough evidence to support the alternative hypothesis.\n",
    "\n",
    "9. **Draw Conclusions:**\n",
    "   - Based on the results of the hypothesis test, draw conclusions about the population parameter or the relationship between variables."
   ]
  },
  {
   "cell_type": "markdown",
   "id": "b688e988-9b69-4600-8848-79f440c03fa4",
   "metadata": {},
   "source": [
    "### <b>Question No. 8"
   ]
  },
  {
   "cell_type": "markdown",
   "id": "e80cb0d4-99bb-4ea5-a16f-20f3b80bd3a3",
   "metadata": {},
   "source": [
    "The p-value is a measure used in hypothesis testing to determine the strength of the evidence against the null hypothesis. It represents the probability of obtaining results as extreme as the observed results, assuming the null hypothesis is true. \n",
    "\n",
    "In hypothesis testing, the null hypothesis (H0) is a statement that there is no significant difference or effect, while the alternative hypothesis (Ha) is the statement that there is a significant difference or effect. The p-value helps us decide whether to reject the null hypothesis based on the observed data.\n",
    "\n",
    "Here's how the p-value is typically used in hypothesis testing:\n",
    "\n",
    "1. **Calculate a test statistic**: This is a value calculated from the sample data, which measures the strength of the evidence against the null hypothesis.\n",
    "\n",
    "2. **Determine the distribution of the test statistic**: Under the null hypothesis, the test statistic follows a known distribution (e.g., normal distribution, t-distribution).\n",
    "\n",
    "3. **Calculate the p-value**: The p-value is the probability of observing a test statistic as extreme as, or more extreme than, the one calculated from the sample data, assuming the null hypothesis is true. A low p-value indicates that the observed data are unlikely to have occurred under the null hypothesis.\n",
    "\n",
    "4. **Compare the p-value to the significance level**: The significance level (often denoted as α) is the threshold below which you reject the null hypothesis. Common significance levels are 0.05 or 0.01. If the p-value is less than or equal to the significance level, you reject the null hypothesis. Otherwise, you fail to reject the null hypothesis."
   ]
  },
  {
   "cell_type": "markdown",
   "id": "f4ad797c-450f-4299-9fec-de6a512549a8",
   "metadata": {},
   "source": [
    "### <b>Question No. 9"
   ]
  },
  {
   "cell_type": "code",
   "execution_count": 15,
   "id": "fff5986c-ac3d-4a71-927a-6582705dc533",
   "metadata": {},
   "outputs": [
    {
     "data": {
      "image/png": "[encoded data removed]",
      "text/plain": [
       "<Figure size 800x600 with 1 Axes>"
      ]
     },
     "metadata": {},
     "output_type": "display_data"
    }
   ],
   "source": [
    "import numpy as np\n",
    "import matplotlib.pyplot as plt\n",
    "from scipy.stats import t\n",
    "\n",
    "# Generate x values\n",
    "x = np.linspace(-4, 4, 1000)\n",
    "\n",
    "# Degrees of freedom\n",
    "df = 10\n",
    "\n",
    "# Calculate the t-distribution for the given degrees of freedom\n",
    "y = t.pdf(x, df)\n",
    "\n",
    "# Plot the t-distribution\n",
    "plt.figure(figsize=(8, 6))\n",
    "plt.plot(x, y, label='t-distribution (df=10)')\n",
    "plt.fill_between(x, y, where=(x >= -2) & (x <= 2), alpha=0.3)\n",
    "plt.title(\"Student's t-distribution (df=10)\")\n",
    "plt.xlabel('x')\n",
    "plt.ylabel('Probability Density')\n",
    "plt.legend()\n",
    "plt.grid(True)\n",
    "plt.show()\n"
   ]
  },
  {
   "cell_type": "markdown",
   "id": "d0eb4c05-9a5d-40be-8b95-e1887fe055d8",
   "metadata": {},
   "source": [
    "### <b>Question No. 10"
   ]
  },
  {
   "cell_type": "code",
   "execution_count": 16,
   "id": "d6742a7a-9b6a-4a34-8715-5d2f16c06e93",
   "metadata": {},
   "outputs": [
    {
     "name": "stdout",
     "output_type": "stream",
     "text": [
      "Two-sample t-test results:\n",
      "T-statistic: -4.754695943505288\n",
      "P-value: 3.819135262679343e-06\n",
      "Reject the null hypothesis that the population means are equal.\n"
     ]
    }
   ],
   "source": [
    "import numpy as np\n",
    "from scipy.stats import ttest_ind\n",
    "\n",
    "# Generate two random samples\n",
    "np.random.seed(42)\n",
    "sample1 = np.random.normal(loc=0, scale=1, size=100)\n",
    "sample2 = np.random.normal(loc=0.5, scale=1, size=100)\n",
    "\n",
    "# Perform the two-sample t-test\n",
    "t_statistic, p_value = ttest_ind(sample1, sample2)\n",
    "\n",
    "# Display the results\n",
    "print(\"Two-sample t-test results:\")\n",
    "print(f\"T-statistic: {t_statistic}\")\n",
    "print(f\"P-value: {p_value}\")\n",
    "\n",
    "# Interpret the results\n",
    "alpha = 0.05\n",
    "if p_value < alpha:\n",
    "    print(\"Reject the null hypothesis that the population means are equal.\")\n",
    "else:\n",
    "    print(\"Fail to reject the null hypothesis that the population means are equal.\")\n"
   ]
  },
  {
   "cell_type": "markdown",
   "id": "9028bd07-a6b4-465a-b1e3-70b7749e3b7d",
   "metadata": {},
   "source": [
    "### <b>Question No. 11"
   ]
  },
  {
   "cell_type": "markdown",
   "id": "4bcfbce9-2e69-4158-b494-d3b696a9b62c",
   "metadata": {},
   "source": [
    "Student's t-distribution, often referred to simply as the t-distribution, is a probability distribution that is similar to the normal distribution but has heavier tails. It is used in hypothesis testing and to construct confidence intervals for the mean of a normally distributed population when the sample size is small or when the population standard deviation is unknown.\n",
    "\n",
    "The t-distribution is characterized by its degrees of freedom (df), which determine the shape of the distribution. As the degrees of freedom increase, the t-distribution approaches the shape of the standard normal distribution (i.e., a normal distribution with a mean of 0 and a standard deviation of 1).\n",
    "\n",
    "The t-distribution is used in the following situations:\n",
    "\n",
    "1. **Small Sample Sizes**: When the sample size is small (typically less than 30) and the population standard deviation is unknown, the t-distribution is used instead of the normal distribution to estimate the population mean.\n",
    "\n",
    "2. **Estimating Confidence Intervals**: The t-distribution is used to construct confidence intervals for the population mean when the sample size is small or when the population standard deviation is unknown. The confidence interval provides a range of values within which the true population mean is likely to fall.\n",
    "\n",
    "3. **Hypothesis Testing**: In hypothesis testing, the t-distribution is used to test hypotheses about the population mean when the population standard deviation is unknown and the sample size is small. The t-test is used to determine if there is a significant difference between the sample mean and the hypothesized population mean.\n",
    "\n",
    "In summary, the t-distribution is used in situations where the sample size is small or the population standard deviation is unknown, making it a valuable tool in statistical inference when dealing with limited data."
   ]
  },
  {
   "cell_type": "markdown",
   "id": "e16fbd31-d485-4631-8c3d-d71f02238a01",
   "metadata": {},
   "source": [
    "### <b>Question No. 12"
   ]
  },
  {
   "cell_type": "markdown",
   "id": "b66a56d3-9e12-4168-b738-23213a51f30f",
   "metadata": {},
   "source": [
    "The t-statistic is a measure used in hypothesis testing to determine if there is a significant difference between the means of two groups. It is calculated as the difference between the means of the two groups divided by the standard error of the difference.\n",
    "\n",
    "The formula for the t-statistic in a two-sample t-test for independent samples is:\n",
    "\n",
    "t = (X̄₁ - X̄₂) / √((s₁² / n₁) + (s₂² / n₂))\n",
    "\n",
    "Where:\n",
    "- X̄₁ and X̄₂ are the sample means of the two groups,\n",
    "- s₁² and s₂² are the sample variances of the two groups,\n",
    "- n₁ and n₂ are the sample sizes of the two groups.\n",
    "\n",
    "In the case of a one-sample t-test, where you are comparing the mean of a sample to a known or hypothesized population mean, the formula for the t-statistic is:\n",
    "\n",
    "t = (X̄ - μ) / (s / √n)\n",
    "\n",
    "Where:\n",
    "- X̄ is the sample mean,\n",
    "- μ is the population mean,\n",
    "- s is the sample standard deviation,\n",
    "- n is the sample size.\n",
    "\n",
    "The t-statistic measures how many standard errors the sample mean is from the hypothesized population mean. If the absolute value of the t-statistic is large, it indicates that the difference between the sample mean and the hypothesized population mean is unlikely to be due to random chance, leading to the rejection of the null hypothesis in favor of the alternative hypothesis."
   ]
  },
  {
   "cell_type": "markdown",
   "id": "2d899671-2708-47ed-a682-e812b78e7109",
   "metadata": {},
   "source": [
    "### <b>Question No. 13"
   ]
  },
  {
   "cell_type": "markdown",
   "id": "e3696afa-3a9a-4a88-9435-0554a33f19f0",
   "metadata": {},
   "source": [
    "To estimate the population mean revenue with a 95% confidence interval, we can use the formula for the confidence interval for the mean:\n",
    "\n",
    "Confidence interval = sample mean ± (Z * (standard deviation / sqrt(sample size)))\n",
    "\n",
    "Given:\n",
    "- Sample mean revenue = $500\n",
    "- Standard deviation = $50\n",
    "- Sample size = 50\n",
    "- Z-score for a 95% confidence level is approximately 1.96\n",
    "\n",
    "Calculating the confidence interval:\n",
    "\n",
    "Confidence interval = $500 ± (1.96 * ($50 / sqrt(50)))\n",
    "Confidence interval = $500 ± (1.96 * ($50 / 7.07))\n",
    "Confidence interval = $500 ± (1.96 * $7.07)\n",
    "Confidence interval = $500 ± $13.85\n",
    "\n",
    "So, the 95% confidence interval for the population mean revenue is approximately $486.15 to $513.85."
   ]
  },
  {
   "cell_type": "markdown",
   "id": "9d749649-f7f1-42f2-ab2d-410d97d0cb0d",
   "metadata": {},
   "source": [
    "### <b>Question No. 14"
   ]
  },
  {
   "cell_type": "markdown",
   "id": "da1b6dfd-786a-45de-8582-7e0df2092923",
   "metadata": {},
   "source": [
    "To test the hypothesis, we can use a one-sample t-test. The null hypothesis is that the drug does not decrease blood pressure by 10 mmHg, and the alternative hypothesis is that it does decrease blood pressure by 10 mmHg.\n",
    "\n",
    "Given:\n",
    "- Sample size (n) = 100\n",
    "- Sample mean (x̄) = 8 mmHg\n",
    "- Population standard deviation (σ) = 3 mmHg (assuming the population standard deviation is unknown)\n",
    "\n",
    "Hypotheses:\n",
    "- Null hypothesis (H0): The drug does not decrease blood pressure by 10 mmHg (μ = 10)\n",
    "- Alternative hypothesis (H1): The drug does decrease blood pressure by 10 mmHg (μ ≠ 10)\n",
    "\n",
    "Significance level (α) = 0.05 (5%)\n",
    "\n",
    "First, let's calculate the t-statistic:\n",
    "\n",
    "t = (x̄ - μ) / (s / √n)\n",
    "\n",
    "Where:\n",
    "- x̄ is the sample mean\n",
    "- μ is the hypothesized population mean\n",
    "- s is the sample standard deviation\n",
    "- n is the sample size\n",
    "\n",
    "Plugging in the values:\n",
    "\n",
    "t = (8 - 10) / (3 / √100)\n",
    "t = -2 / (3 / 10)\n",
    "t = -20 / 3\n",
    "t = -6.67\n",
    "\n",
    "Next, we determine the critical t-value using the significance level and degrees of freedom (df = n - 1 = 99). Since this is a two-tailed test, we divide the significance level by 2 to find the critical t-values:\n",
    "\n",
    "α/2 = 0.05/2 = 0.025\n",
    "\n",
    "Using a t-table or a statistical calculator, we find the critical t-values for a two-tailed test with 99 degrees of freedom is approximately ±1.984.\n",
    "\n",
    "Since the absolute value of the calculated t-statistic (-6.67) is greater than the critical t-value (1.984), we reject the null hypothesis. This means that there is sufficient evidence to conclude that the drug does decrease blood pressure by 10 mmHg."
   ]
  },
  {
   "cell_type": "markdown",
   "id": "1f216047-2c4e-493d-9ea5-2275636b5b3b",
   "metadata": {},
   "source": [
    "### <b>Question No. 15"
   ]
  },
  {
   "cell_type": "markdown",
   "id": "28454170-b9a2-4382-b02b-c90343a9eee1",
   "metadata": {},
   "source": [
    "To test the hypothesis, we can use a one-sample t-test. The null hypothesis is that the true mean weight of the products is 5 pounds or more, and the alternative hypothesis is that the true mean weight is less than 5 pounds.\n",
    "\n",
    "Given:\n",
    "- Population mean (μ) = 5 pounds\n",
    "- Population standard deviation (σ) = 0.5 pounds\n",
    "- Sample size (n) = 25\n",
    "- Sample mean (x̄) = 4.8 pounds\n",
    "\n",
    "Hypotheses:\n",
    "- Null hypothesis (H0): μ ≥ 5 (The true mean weight is 5 pounds or more)\n",
    "- Alternative hypothesis (H1): μ < 5 (The true mean weight is less than 5 pounds)\n",
    "\n",
    "Significance level (α) = 0.01 (1%)\n",
    "\n",
    "First, let's calculate the t-statistic:\n",
    "\n",
    "t = (x̄ - μ) / (s / √n)\n",
    "\n",
    "Where:\n",
    "- x̄ is the sample mean\n",
    "- μ is the hypothesized population mean\n",
    "- s is the sample standard deviation\n",
    "- n is the sample size\n",
    "\n",
    "Plugging in the values:\n",
    "\n",
    "t = (4.8 - 5) / (0.5 / √25)\n",
    "t = -0.2 / (0.5 / 5)\n",
    "t = -0.2 / 0.1\n",
    "t = -2\n",
    "\n",
    "Next, we determine the critical t-value using the significance level and degrees of freedom (df = n - 1 = 24). Since this is a one-tailed test (less than), we find the critical t-value for the 1% significance level and 24 degrees of freedom, which is approximately -2.492.\n",
    "\n",
    "Since the calculated t-statistic (-2) is greater than the critical t-value (-2.492), we fail to reject the null hypothesis. This means that there is not enough evidence to conclude that the true mean weight of the products is less than 5 pounds at the 1% significance level."
   ]
  },
  {
   "cell_type": "markdown",
   "id": "1f2d506a-a2ce-4557-9875-6eb3510f5be8",
   "metadata": {},
   "source": [
    "### <b>Question No. 16"
   ]
  },
  {
   "cell_type": "markdown",
   "id": "b1e7d72f-6f57-4726-8a9e-177fff400c37",
   "metadata": {},
   "source": [
    "To test the hypothesis that the population means for the two groups are equal, we can use a two-sample t-test.\n",
    "\n",
    "Given data:\n",
    "- Group 1 (n1 = 30): \n",
    "  - Mean score (x̄1) = 80\n",
    "  - Standard deviation (s1) = 10\n",
    "- Group 2 (n2 = 40): \n",
    "  - Mean score (x̄2) = 75\n",
    "  - Standard deviation (s2) = 8\n",
    "- Significance level (α) = 0.01\n",
    "\n",
    "Hypotheses:\n",
    "- Null hypothesis (H0): μ1 = μ2 (The population means for the two groups are equal)\n",
    "- Alternative hypothesis (H1): μ1 ≠ μ2 (The population means for the two groups are not equal)\n",
    "\n",
    "Calculating the t-statistic:\n",
    "\n",
    "t = (80 - 75) / sqrt((10^2 / 30) + (8^2 / 40))\n",
    "t = 5 / sqrt(3.33 + 1.6)\n",
    "t = 5 / sqrt(4.93)\n",
    "t = 5 / 2.22\n",
    "t ≈ 2.25\n",
    "\n",
    "Calculating the degrees of freedom (df):\n",
    "\n",
    "df = ((10^2 / 30 + 8^2 / 40)^2) / (((10^2 / 30)^2 / 29) + ((8^2 / 40)^2 / 39))\n",
    "df ≈ 68\n",
    "\n",
    "The critical t-value for a two-tailed test with a significance level of 0.01 and 68 degrees of freedom is approximately ±2.65.\n",
    "\n",
    "Since the calculated t-statistic (2.25) is less than the critical t-value (2.65), we fail to reject the null hypothesis. There is not enough evidence to conclude that the population means for the two groups are different at the 0.01 significance level."
   ]
  },
  {
   "cell_type": "markdown",
   "id": "10bf82c6-07fb-4339-885a-731055877dc6",
   "metadata": {},
   "source": [
    "### <b>Question No. 17"
   ]
  },
  {
   "cell_type": "markdown",
   "id": "3bdeaa5c-0ed5-48d7-a38d-1026b4e445f4",
   "metadata": {},
   "source": [
    "To estimate the population mean with a 99% confidence interval, we can use the formula for the confidence interval for a population mean when the population standard deviation is unknown:\n",
    "\n",
    "Confidence Interval = sample mean ± (t * (sample standard deviation / sqrt(sample size)))\n",
    "\n",
    "Given:\n",
    "- Sample mean (x̄) = 4\n",
    "- Sample standard deviation (s) = 1.5\n",
    "- Sample size (n) = 50\n",
    "- Confidence level = 99%\n",
    "\n",
    "Degrees of freedom (df) = sample size - 1 = 50 - 1 = 49\n",
    "\n",
    "From the t-distribution table or calculator, the t-value for a 99% confidence level and 49 degrees of freedom is approximately 2.676.\n",
    "\n",
    "Plugging in the values:\n",
    "\n",
    "Margin of Error (ME) = t * (s / sqrt(n))\n",
    "ME = 2.676 * (1.5 / sqrt(50))\n",
    "ME ≈ 2.676 * (1.5 / 7.07)\n",
    "ME ≈ 2.676 * 0.2121\n",
    "ME ≈ 0.5677\n",
    "\n",
    "Confidence Interval = 4 ± 0.5677\n",
    "Confidence Interval = (3.4323, 4.5677)\n",
    "\n",
    "Therefore, with 99% confidence, we estimate that the average number of ads watched by viewers during a TV program is between 3.4323 and 4.5677."
   ]
  },
  {
   "cell_type": "code",
   "execution_count": null,
   "id": "5bf0e367-f6ff-4367-bede-ab41898ef786",
   "metadata": {},
   "outputs": [],
   "source": []
  }
 ],
 "metadata": {
  "kernelspec": {
   "display_name": "Python 3 (ipykernel)",
   "language": "python",
   "name": "python3"
  },
  "language_info": {
   "codemirror_mode": {
    "name": "ipython",
    "version": 3
   },
   "file_extension": ".py",
   "mimetype": "text/x-python",
   "name": "python",
   "nbconvert_exporter": "python",
   "pygments_lexer": "ipython3",
   "version": "3.10.12"
  }
 },
 "nbformat": 4,
 "nbformat_minor": 5
}
